{
 "cells": [
  {
   "cell_type": "markdown",
   "metadata": {},
   "source": [
    "# SQL Notes"
   ]
  },
  {
   "cell_type": "code",
   "execution_count": 9,
   "metadata": {},
   "outputs": [],
   "source": [
    "import pandas as pd"
   ]
  },
  {
   "cell_type": "code",
   "execution_count": 10,
   "metadata": {},
   "outputs": [
    {
     "name": "stdout",
     "output_type": "stream",
     "text": [
      "The sql extension is already loaded. To reload it, use:\n",
      "  %reload_ext sql\n"
     ]
    }
   ],
   "source": [
    "%load_ext sql"
   ]
  },
  {
   "cell_type": "code",
   "execution_count": 11,
   "metadata": {},
   "outputs": [
    {
     "data": {
      "text/plain": [
       "'Connected: @book.db'"
      ]
     },
     "execution_count": 11,
     "metadata": {},
     "output_type": "execute_result"
    }
   ],
   "source": [
    "%sql sqlite:///book.db"
   ]
  },
  {
   "cell_type": "markdown",
   "metadata": {},
   "source": [
    "## SQL Cell Magic"
   ]
  },
  {
   "cell_type": "markdown",
   "metadata": {},
   "source": [
    "*Cell Magic* applies to the whole cell."
   ]
  },
  {
   "cell_type": "markdown",
   "metadata": {},
   "source": [
    "`%%sql` : whole cell will be treated as an SQL script"
   ]
  },
  {
   "cell_type": "markdown",
   "metadata": {},
   "source": [
    "## SQL Line Magic"
   ]
  },
  {
   "cell_type": "markdown",
   "metadata": {},
   "source": [
    "*Line Magic* will turn only one line of code to an SQL script"
   ]
  },
  {
   "cell_type": "markdown",
   "metadata": {},
   "source": [
    "`%sql` : whole line will be treated as an SQL script"
   ]
  },
  {
   "cell_type": "markdown",
   "metadata": {},
   "source": [
    "## SQL Query to a Pandas Data Frame"
   ]
  },
  {
   "cell_type": "markdown",
   "metadata": {},
   "source": [
    "Can assign the results of an SQL query to a Python variable by using an assignment operator before the SQL magic line operation"
   ]
  },
  {
   "cell_type": "code",
   "execution_count": 4,
   "metadata": {
    "scrolled": true
   },
   "outputs": [
    {
     "name": "stdout",
     "output_type": "stream",
     "text": [
      " * sqlite:///book.db\n",
      "Done.\n"
     ]
    }
   ],
   "source": [
    "output = %sql SELECT pop FROM indicators0"
   ]
  },
  {
   "cell_type": "code",
   "execution_count": 5,
   "metadata": {
    "scrolled": true
   },
   "outputs": [
    {
     "data": {
      "text/html": [
       "<table>\n",
       "    <tr>\n",
       "        <th>pop</th>\n",
       "    </tr>\n",
       "    <tr>\n",
       "        <td>1386.4</td>\n",
       "    </tr>\n",
       "    <tr>\n",
       "        <td>66.87</td>\n",
       "    </tr>\n",
       "    <tr>\n",
       "        <td>66.06</td>\n",
       "    </tr>\n",
       "    <tr>\n",
       "        <td>1338.66</td>\n",
       "    </tr>\n",
       "    <tr>\n",
       "        <td>325.15</td>\n",
       "    </tr>\n",
       "</table>"
      ],
      "text/plain": [
       "[(1386.4,), (66.87,), (66.06,), (1338.66,), (325.15,)]"
      ]
     },
     "execution_count": 5,
     "metadata": {},
     "output_type": "execute_result"
    }
   ],
   "source": [
    "df = pd.DataFrame(output)\n",
    "output"
   ]
  },
  {
   "cell_type": "markdown",
   "metadata": {},
   "source": [
    "`<<` operator : assign results of a multi-line SQL querry to a python variable"
   ]
  },
  {
   "cell_type": "code",
   "execution_count": 20,
   "metadata": {},
   "outputs": [
    {
     "name": "stdout",
     "output_type": "stream",
     "text": [
      " * sqlite:///C:\\Users\\bilene\\Downloads\\book.db\n",
      "Done.\n",
      "Returning data to local variable output2\n"
     ]
    }
   ],
   "source": [
    "%%sql\n",
    "output2 << \n",
    "SELECT pop FROM indicators0"
   ]
  },
  {
   "cell_type": "markdown",
   "metadata": {},
   "source": [
    "## `SELECT` Statement"
   ]
  },
  {
   "cell_type": "markdown",
   "metadata": {},
   "source": [
    "`SELECT column_name FROM table_name`"
   ]
  },
  {
   "cell_type": "code",
   "execution_count": 9,
   "metadata": {
    "scrolled": true
   },
   "outputs": [
    {
     "name": "stdout",
     "output_type": "stream",
     "text": [
      " * sqlite:///C:\\Users\\bilene\\Downloads\\book.db\n",
      "Done.\n"
     ]
    },
    {
     "data": {
      "text/html": [
       "<table>\n",
       "    <tr>\n",
       "        <th>pop</th>\n",
       "    </tr>\n",
       "    <tr>\n",
       "        <td>1386.4</td>\n",
       "    </tr>\n",
       "    <tr>\n",
       "        <td>66.87</td>\n",
       "    </tr>\n",
       "    <tr>\n",
       "        <td>66.06</td>\n",
       "    </tr>\n",
       "    <tr>\n",
       "        <td>1338.66</td>\n",
       "    </tr>\n",
       "    <tr>\n",
       "        <td>325.15</td>\n",
       "    </tr>\n",
       "</table>"
      ],
      "text/plain": [
       "[(1386.4,), (66.87,), (66.06,), (1338.66,), (325.15,)]"
      ]
     },
     "execution_count": 9,
     "metadata": {},
     "output_type": "execute_result"
    }
   ],
   "source": [
    "%%sql\n",
    "SELECT pop FROM indicators0"
   ]
  },
  {
   "cell_type": "markdown",
   "metadata": {},
   "source": [
    "`LIMIT #` : limits the rows shown to however many you indicate"
   ]
  },
  {
   "cell_type": "code",
   "execution_count": 11,
   "metadata": {},
   "outputs": [
    {
     "name": "stdout",
     "output_type": "stream",
     "text": [
      " * sqlite:///C:\\Users\\bilene\\Downloads\\book.db\n",
      "Done.\n"
     ]
    },
    {
     "data": {
      "text/html": [
       "<table>\n",
       "    <tr>\n",
       "        <th>name</th>\n",
       "    </tr>\n",
       "    <tr>\n",
       "        <td>Mary</td>\n",
       "    </tr>\n",
       "    <tr>\n",
       "        <td>John</td>\n",
       "    </tr>\n",
       "    <tr>\n",
       "        <td>Mary</td>\n",
       "    </tr>\n",
       "    <tr>\n",
       "        <td>John</td>\n",
       "    </tr>\n",
       "    <tr>\n",
       "        <td>Mary</td>\n",
       "    </tr>\n",
       "</table>"
      ],
      "text/plain": [
       "[('Mary',), ('John',), ('Mary',), ('John',), ('Mary',)]"
      ]
     },
     "execution_count": 11,
     "metadata": {},
     "output_type": "execute_result"
    }
   ],
   "source": [
    "%%sql\n",
    "SELECT name FROM topnames\n",
    "LIMIT 5"
   ]
  },
  {
   "cell_type": "markdown",
   "metadata": {},
   "source": [
    "## Projecting More Than One Column"
   ]
  },
  {
   "cell_type": "markdown",
   "metadata": {},
   "source": [
    "`SELECT col1, col2, col3 FROM table` : multiple columns (prints in order as typed)"
   ]
  },
  {
   "cell_type": "code",
   "execution_count": 27,
   "metadata": {
    "scrolled": true
   },
   "outputs": [
    {
     "name": "stdout",
     "output_type": "stream",
     "text": [
      " * sqlite:///C:\\Users\\bilene\\Downloads\\book.db\n",
      "Done.\n"
     ]
    },
    {
     "data": {
      "text/html": [
       "<table>\n",
       "    <tr>\n",
       "        <th>year</th>\n",
       "        <th>name</th>\n",
       "        <th>sex</th>\n",
       "    </tr>\n",
       "    <tr>\n",
       "        <td>1880</td>\n",
       "        <td>Mary</td>\n",
       "        <td>Female</td>\n",
       "    </tr>\n",
       "    <tr>\n",
       "        <td>1880</td>\n",
       "        <td>John</td>\n",
       "        <td>Male</td>\n",
       "    </tr>\n",
       "    <tr>\n",
       "        <td>1881</td>\n",
       "        <td>Mary</td>\n",
       "        <td>Female</td>\n",
       "    </tr>\n",
       "    <tr>\n",
       "        <td>1881</td>\n",
       "        <td>John</td>\n",
       "        <td>Male</td>\n",
       "    </tr>\n",
       "    <tr>\n",
       "        <td>1882</td>\n",
       "        <td>Mary</td>\n",
       "        <td>Female</td>\n",
       "    </tr>\n",
       "</table>"
      ],
      "text/plain": [
       "[(1880, 'Mary', 'Female'),\n",
       " (1880, 'John', 'Male'),\n",
       " (1881, 'Mary', 'Female'),\n",
       " (1881, 'John', 'Male'),\n",
       " (1882, 'Mary', 'Female')]"
      ]
     },
     "execution_count": 27,
     "metadata": {},
     "output_type": "execute_result"
    }
   ],
   "source": [
    "%%sql\n",
    "SELECT year,name,sex FROM topnames\n",
    "LIMIT 5"
   ]
  },
  {
   "cell_type": "markdown",
   "metadata": {},
   "source": [
    "## `AS` Keyword"
   ]
  },
  {
   "cell_type": "markdown",
   "metadata": {},
   "source": [
    "`col_name AS new_name` : rename columns"
   ]
  },
  {
   "cell_type": "code",
   "execution_count": 29,
   "metadata": {},
   "outputs": [
    {
     "name": "stdout",
     "output_type": "stream",
     "text": [
      " * sqlite:///C:\\Users\\bilene\\Downloads\\book.db\n",
      "Done.\n"
     ]
    },
    {
     "data": {
      "text/html": [
       "<table>\n",
       "    <tr>\n",
       "        <th>code</th>\n",
       "        <th>Population</th>\n",
       "        <th>GDP</th>\n",
       "    </tr>\n",
       "    <tr>\n",
       "        <td>CHN</td>\n",
       "        <td>1386.4</td>\n",
       "        <td>12143.5</td>\n",
       "    </tr>\n",
       "    <tr>\n",
       "        <td>FRA</td>\n",
       "        <td>66.87</td>\n",
       "        <td>2586.29</td>\n",
       "    </tr>\n",
       "    <tr>\n",
       "        <td>GBR</td>\n",
       "        <td>66.06</td>\n",
       "        <td>2637.87</td>\n",
       "    </tr>\n",
       "    <tr>\n",
       "        <td>IND</td>\n",
       "        <td>1338.66</td>\n",
       "        <td>2652.55</td>\n",
       "    </tr>\n",
       "    <tr>\n",
       "        <td>USA</td>\n",
       "        <td>325.15</td>\n",
       "        <td>19485.4</td>\n",
       "    </tr>\n",
       "</table>"
      ],
      "text/plain": [
       "[('CHN', 1386.4, 12143.5),\n",
       " ('FRA', 66.87, 2586.29),\n",
       " ('GBR', 66.06, 2637.87),\n",
       " ('IND', 1338.66, 2652.55),\n",
       " ('USA', 325.15, 19485.4)]"
      ]
     },
     "execution_count": 29,
     "metadata": {},
     "output_type": "execute_result"
    }
   ],
   "source": [
    "%%sql\n",
    "SELECT code, pop AS Population, gdp AS GDP FROM indicators0"
   ]
  },
  {
   "cell_type": "markdown",
   "metadata": {},
   "source": [
    "## Retrieving All Columns"
   ]
  },
  {
   "cell_type": "markdown",
   "metadata": {},
   "source": [
    "`SELECT * FROM table` : select all columns "
   ]
  },
  {
   "cell_type": "code",
   "execution_count": 32,
   "metadata": {},
   "outputs": [
    {
     "name": "stdout",
     "output_type": "stream",
     "text": [
      " * sqlite:///C:\\Users\\bilene\\Downloads\\book.db\n",
      "Done.\n"
     ]
    },
    {
     "data": {
      "text/html": [
       "<table>\n",
       "    <tr>\n",
       "        <th>code</th>\n",
       "        <th>pop</th>\n",
       "        <th>gdp</th>\n",
       "        <th>life</th>\n",
       "        <th>cell</th>\n",
       "    </tr>\n",
       "    <tr>\n",
       "        <td>CHN</td>\n",
       "        <td>1386.4</td>\n",
       "        <td>12143.5</td>\n",
       "        <td>76.4</td>\n",
       "        <td>1469.88</td>\n",
       "    </tr>\n",
       "    <tr>\n",
       "        <td>FRA</td>\n",
       "        <td>66.87</td>\n",
       "        <td>2586.29</td>\n",
       "        <td>82.5</td>\n",
       "        <td>69.02</td>\n",
       "    </tr>\n",
       "    <tr>\n",
       "        <td>GBR</td>\n",
       "        <td>66.06</td>\n",
       "        <td>2637.87</td>\n",
       "        <td>81.2</td>\n",
       "        <td>79.1</td>\n",
       "    </tr>\n",
       "    <tr>\n",
       "        <td>IND</td>\n",
       "        <td>1338.66</td>\n",
       "        <td>2652.55</td>\n",
       "        <td>68.8</td>\n",
       "        <td>1168.9</td>\n",
       "    </tr>\n",
       "    <tr>\n",
       "        <td>USA</td>\n",
       "        <td>325.15</td>\n",
       "        <td>19485.4</td>\n",
       "        <td>78.5</td>\n",
       "        <td>391.6</td>\n",
       "    </tr>\n",
       "</table>"
      ],
      "text/plain": [
       "[('CHN', 1386.4, 12143.5, 76.4, 1469.88),\n",
       " ('FRA', 66.87, 2586.29, 82.5, 69.02),\n",
       " ('GBR', 66.06, 2637.87, 81.2, 79.1),\n",
       " ('IND', 1338.66, 2652.55, 68.8, 1168.9),\n",
       " ('USA', 325.15, 19485.4, 78.5, 391.6)]"
      ]
     },
     "execution_count": 32,
     "metadata": {},
     "output_type": "execute_result"
    }
   ],
   "source": [
    "%%sql\n",
    "SELECT * FROM indicators0"
   ]
  },
  {
   "cell_type": "markdown",
   "metadata": {},
   "source": [
    "## All Table Names in SQL Database"
   ]
  },
  {
   "cell_type": "markdown",
   "metadata": {},
   "source": [
    "`SELECT name FROM sqlite_master WHERE type='table'` : print a table of all the table names in the database"
   ]
  },
  {
   "cell_type": "code",
   "execution_count": 33,
   "metadata": {
    "scrolled": true
   },
   "outputs": [
    {
     "name": "stdout",
     "output_type": "stream",
     "text": [
      " * sqlite:///C:\\Users\\bilene\\Downloads\\book.db\n",
      "Done.\n"
     ]
    },
    {
     "data": {
      "text/html": [
       "<table>\n",
       "    <tr>\n",
       "        <th>name</th>\n",
       "    </tr>\n",
       "    <tr>\n",
       "        <td>countries</td>\n",
       "    </tr>\n",
       "    <tr>\n",
       "        <td>indicators</td>\n",
       "    </tr>\n",
       "    <tr>\n",
       "        <td>indicators0</td>\n",
       "    </tr>\n",
       "    <tr>\n",
       "        <td>topnames</td>\n",
       "    </tr>\n",
       "</table>"
      ],
      "text/plain": [
       "[('countries',), ('indicators',), ('indicators0',), ('topnames',)]"
      ]
     },
     "execution_count": 33,
     "metadata": {},
     "output_type": "execute_result"
    }
   ],
   "source": [
    "%%sql\n",
    "SELECT name FROM sqlite_master WHERE type='table'"
   ]
  },
  {
   "cell_type": "markdown",
   "metadata": {},
   "source": [
    "## Ordering"
   ]
  },
  {
   "cell_type": "markdown",
   "metadata": {},
   "source": [
    "`ORDER BY column ASC` : print column in ascending order (default)"
   ]
  },
  {
   "cell_type": "markdown",
   "metadata": {},
   "source": [
    "`ORDER BY column DESC` : print column in descending order"
   ]
  },
  {
   "cell_type": "code",
   "execution_count": 38,
   "metadata": {},
   "outputs": [
    {
     "name": "stdout",
     "output_type": "stream",
     "text": [
      " * sqlite:///C:\\Users\\bilene\\Downloads\\book.db\n",
      "Done.\n"
     ]
    },
    {
     "data": {
      "text/html": [
       "<table>\n",
       "    <tr>\n",
       "        <th>year</th>\n",
       "        <th>sex</th>\n",
       "        <th>name</th>\n",
       "        <th>count</th>\n",
       "    </tr>\n",
       "    <tr>\n",
       "        <td>1880</td>\n",
       "        <td>Male</td>\n",
       "        <td>John</td>\n",
       "        <td>9655</td>\n",
       "    </tr>\n",
       "    <tr>\n",
       "        <td>1880</td>\n",
       "        <td>Female</td>\n",
       "        <td>Mary</td>\n",
       "        <td>7065</td>\n",
       "    </tr>\n",
       "    <tr>\n",
       "        <td>1881</td>\n",
       "        <td>Male</td>\n",
       "        <td>John</td>\n",
       "        <td>8769</td>\n",
       "    </tr>\n",
       "    <tr>\n",
       "        <td>1881</td>\n",
       "        <td>Female</td>\n",
       "        <td>Mary</td>\n",
       "        <td>6919</td>\n",
       "    </tr>\n",
       "</table>"
      ],
      "text/plain": [
       "[(1880, 'Male', 'John', 9655),\n",
       " (1880, 'Female', 'Mary', 7065),\n",
       " (1881, 'Male', 'John', 8769),\n",
       " (1881, 'Female', 'Mary', 6919)]"
      ]
     },
     "execution_count": 38,
     "metadata": {},
     "output_type": "execute_result"
    }
   ],
   "source": [
    "%%sql\n",
    "SELECT * FROM topnames\n",
    "ORDER BY year ASC, name ASC\n",
    "LIMIT 4"
   ]
  },
  {
   "cell_type": "markdown",
   "metadata": {},
   "source": [
    "## Using Comments in SQL"
   ]
  },
  {
   "cell_type": "markdown",
   "metadata": {},
   "source": [
    "Only works inside `%%sql`"
   ]
  },
  {
   "cell_type": "markdown",
   "metadata": {},
   "source": [
    "`-- comment` : single line comment"
   ]
  },
  {
   "cell_type": "markdown",
   "metadata": {},
   "source": [
    "`/* start\n",
    "end */` : multi-line comment"
   ]
  },
  {
   "cell_type": "code",
   "execution_count": 50,
   "metadata": {
    "scrolled": true
   },
   "outputs": [
    {
     "name": "stdout",
     "output_type": "stream",
     "text": [
      " * sqlite:///C:\\Users\\bilene\\Downloads\\book.db\n",
      "Done.\n"
     ]
    },
    {
     "data": {
      "text/html": [
       "<table>\n",
       "    <tr>\n",
       "        <th>region</th>\n",
       "    </tr>\n",
       "    <tr>\n",
       "        <td>Latin America &amp; Caribbean</td>\n",
       "    </tr>\n",
       "    <tr>\n",
       "        <td>South Asia</td>\n",
       "    </tr>\n",
       "    <tr>\n",
       "        <td>Sub-Saharan Africa</td>\n",
       "    </tr>\n",
       "    <tr>\n",
       "        <td>Europe &amp; Central Asia</td>\n",
       "    </tr>\n",
       "    <tr>\n",
       "        <td>Middle East &amp; North Africa</td>\n",
       "    </tr>\n",
       "</table>"
      ],
      "text/plain": [
       "[('Latin America & Caribbean',),\n",
       " ('South Asia',),\n",
       " ('Sub-Saharan Africa',),\n",
       " ('Europe & Central Asia',),\n",
       " ('Middle East & North Africa',)]"
      ]
     },
     "execution_count": 50,
     "metadata": {},
     "output_type": "execute_result"
    }
   ],
   "source": [
    "%%sql\n",
    "-- This is a single line comment!\n",
    "/* Here are comments\n",
    "Here are some more comments\n",
    "More comments\n",
    "More comments */\n",
    "SELECT DISTINCT region FROM countries\n",
    "LIMIT 5"
   ]
  },
  {
   "cell_type": "markdown",
   "metadata": {},
   "source": [
    "## Filtering Data using `WHERE`"
   ]
  },
  {
   "cell_type": "markdown",
   "metadata": {},
   "source": [
    "(row filtering involving a condition in SQL)"
   ]
  },
  {
   "cell_type": "markdown",
   "metadata": {},
   "source": [
    "`SELECT column FROM table WHERE condition`"
   ]
  },
  {
   "cell_type": "code",
   "execution_count": 7,
   "metadata": {},
   "outputs": [
    {
     "name": "stdout",
     "output_type": "stream",
     "text": [
      " * sqlite:///book.db\n",
      "   sqlite:///school.db\n",
      "Done.\n",
      "Returning data to local variable out\n"
     ]
    }
   ],
   "source": [
    "%%sql -- all rows in indicators where year is 2000 and up\n",
    "out << SELECT * FROM indicators WHERE year>=2000"
   ]
  },
  {
   "cell_type": "code",
   "execution_count": 13,
   "metadata": {
    "scrolled": true
   },
   "outputs": [
    {
     "name": "stdout",
     "output_type": "stream",
     "text": [
      " * sqlite:///book.db\n",
      "Done.\n"
     ]
    },
    {
     "data": {
      "text/html": [
       "<table>\n",
       "    <thead>\n",
       "        <tr>\n",
       "            <th>code</th>\n",
       "            <th>pop</th>\n",
       "            <th>gdp</th>\n",
       "            <th>life</th>\n",
       "            <th>cell</th>\n",
       "        </tr>\n",
       "    </thead>\n",
       "    <tbody>\n",
       "        <tr>\n",
       "            <td>CHN</td>\n",
       "            <td>1386.4</td>\n",
       "            <td>12143.5</td>\n",
       "            <td>76.4</td>\n",
       "            <td>1469.88</td>\n",
       "        </tr>\n",
       "        <tr>\n",
       "            <td>FRA</td>\n",
       "            <td>66.87</td>\n",
       "            <td>2586.29</td>\n",
       "            <td>82.5</td>\n",
       "            <td>69.02</td>\n",
       "        </tr>\n",
       "        <tr>\n",
       "            <td>GBR</td>\n",
       "            <td>66.06</td>\n",
       "            <td>2637.87</td>\n",
       "            <td>81.2</td>\n",
       "            <td>79.1</td>\n",
       "        </tr>\n",
       "        <tr>\n",
       "            <td>IND</td>\n",
       "            <td>1338.66</td>\n",
       "            <td>2652.55</td>\n",
       "            <td>68.8</td>\n",
       "            <td>1168.9</td>\n",
       "        </tr>\n",
       "        <tr>\n",
       "            <td>USA</td>\n",
       "            <td>325.15</td>\n",
       "            <td>19485.4</td>\n",
       "            <td>78.5</td>\n",
       "            <td>391.6</td>\n",
       "        </tr>\n",
       "    </tbody>\n",
       "</table>"
      ],
      "text/plain": [
       "[('CHN', 1386.4, 12143.5, 76.4, 1469.88),\n",
       " ('FRA', 66.87, 2586.29, 82.5, 69.02),\n",
       " ('GBR', 66.06, 2637.87, 81.2, 79.1),\n",
       " ('IND', 1338.66, 2652.55, 68.8, 1168.9),\n",
       " ('USA', 325.15, 19485.4, 78.5, 391.6)]"
      ]
     },
     "execution_count": 13,
     "metadata": {},
     "output_type": "execute_result"
    }
   ],
   "source": [
    "%%sql \n",
    "/* all rows in indicators0 where population is over 1000 \n",
    "and life is over 60 */\n",
    "SELECT * FROM indicators0 WHERE pop>1000 OR life >60"
   ]
  },
  {
   "cell_type": "markdown",
   "metadata": {},
   "source": [
    "### Operators in the `WHERE` Clause"
   ]
  },
  {
   "cell_type": "markdown",
   "metadata": {},
   "source": [
    "- `AND` (processed before `OR`)"
   ]
  },
  {
   "cell_type": "markdown",
   "metadata": {},
   "source": [
    "- `OR`"
   ]
  },
  {
   "cell_type": "markdown",
   "metadata": {},
   "source": [
    "- `=` : equal"
   ]
  },
  {
   "cell_type": "code",
   "execution_count": null,
   "metadata": {},
   "outputs": [],
   "source": [
    "%%sql -- all rows where income is 'High Income'\n",
    "out << SELECT * FROM countries\n",
    "WHERE income = 'High income' -- string constants get single quotes"
   ]
  },
  {
   "cell_type": "markdown",
   "metadata": {},
   "source": [
    "- `>` : greater than"
   ]
  },
  {
   "cell_type": "markdown",
   "metadata": {},
   "source": [
    "- `<` : less than"
   ]
  },
  {
   "cell_type": "code",
   "execution_count": 16,
   "metadata": {},
   "outputs": [
    {
     "name": "stdout",
     "output_type": "stream",
     "text": [
      " * sqlite:///book.db\n",
      "Done.\n"
     ]
    },
    {
     "data": {
      "text/html": [
       "<table>\n",
       "    <thead>\n",
       "        <tr>\n",
       "            <th>code</th>\n",
       "            <th>country</th>\n",
       "            <th>region</th>\n",
       "            <th>income</th>\n",
       "            <th>land</th>\n",
       "        </tr>\n",
       "    </thead>\n",
       "    <tbody>\n",
       "        <tr>\n",
       "            <td>ALB</td>\n",
       "            <td>Albania</td>\n",
       "            <td>Europe &amp; Central Asia</td>\n",
       "            <td>Upper middle income</td>\n",
       "            <td>27400.0</td>\n",
       "        </tr>\n",
       "        <tr>\n",
       "            <td>ARE</td>\n",
       "            <td>United Arab Emirates</td>\n",
       "            <td>Middle East &amp; North Africa</td>\n",
       "            <td>High income</td>\n",
       "            <td>71020.0</td>\n",
       "        </tr>\n",
       "        <tr>\n",
       "            <td>ARG</td>\n",
       "            <td>Argentina</td>\n",
       "            <td>Latin America &amp; Caribbean</td>\n",
       "            <td>Upper middle income</td>\n",
       "            <td>2736690.0</td>\n",
       "        </tr>\n",
       "        <tr>\n",
       "            <td>ARM</td>\n",
       "            <td>Armenia</td>\n",
       "            <td>Europe &amp; Central Asia</td>\n",
       "            <td>Upper middle income</td>\n",
       "            <td>28470.0</td>\n",
       "        </tr>\n",
       "        <tr>\n",
       "            <td>AUS</td>\n",
       "            <td>Australia</td>\n",
       "            <td>East Asia &amp; Pacific</td>\n",
       "            <td>High income</td>\n",
       "            <td>7692020.0</td>\n",
       "        </tr>\n",
       "        <tr>\n",
       "            <td>AUT</td>\n",
       "            <td>Austria</td>\n",
       "            <td>Europe &amp; Central Asia</td>\n",
       "            <td>High income</td>\n",
       "            <td>82523.0</td>\n",
       "        </tr>\n",
       "        <tr>\n",
       "            <td>AZE</td>\n",
       "            <td>Azerbaijan</td>\n",
       "            <td>Europe &amp; Central Asia</td>\n",
       "            <td>Upper middle income</td>\n",
       "            <td>82670.0</td>\n",
       "        </tr>\n",
       "        <tr>\n",
       "            <td>BEL</td>\n",
       "            <td>Belgium</td>\n",
       "            <td>Europe &amp; Central Asia</td>\n",
       "            <td>High income</td>\n",
       "            <td>30280.0</td>\n",
       "        </tr>\n",
       "        <tr>\n",
       "            <td>BGR</td>\n",
       "            <td>Bulgaria</td>\n",
       "            <td>Europe &amp; Central Asia</td>\n",
       "            <td>Upper middle income</td>\n",
       "            <td>108560.0</td>\n",
       "        </tr>\n",
       "        <tr>\n",
       "            <td>BHS</td>\n",
       "            <td>Bahamas, The</td>\n",
       "            <td>Latin America &amp; Caribbean</td>\n",
       "            <td>High income</td>\n",
       "            <td>10010.0</td>\n",
       "        </tr>\n",
       "    </tbody>\n",
       "</table>"
      ],
      "text/plain": [
       "[('ALB', 'Albania', 'Europe & Central Asia', 'Upper middle income', 27400.0),\n",
       " ('ARE', 'United Arab Emirates', 'Middle East & North Africa', 'High income', 71020.0),\n",
       " ('ARG', 'Argentina', 'Latin America & Caribbean', 'Upper middle income', 2736690.0),\n",
       " ('ARM', 'Armenia', 'Europe & Central Asia', 'Upper middle income', 28470.0),\n",
       " ('AUS', 'Australia', 'East Asia & Pacific', 'High income', 7692020.0),\n",
       " ('AUT', 'Austria', 'Europe & Central Asia', 'High income', 82523.0),\n",
       " ('AZE', 'Azerbaijan', 'Europe & Central Asia', 'Upper middle income', 82670.0),\n",
       " ('BEL', 'Belgium', 'Europe & Central Asia', 'High income', 30280.0),\n",
       " ('BGR', 'Bulgaria', 'Europe & Central Asia', 'Upper middle income', 108560.0),\n",
       " ('BHS', 'Bahamas, The', 'Latin America & Caribbean', 'High income', 10010.0)]"
      ]
     },
     "execution_count": 16,
     "metadata": {},
     "output_type": "execute_result"
    }
   ],
   "source": [
    "%%sql \n",
    "/* all rows where income is eitehr 'High income' or 'Upper middle income'\n",
    "and land is larger than 10000*/\n",
    "SELECT * FROM countries\n",
    "WHERE (income = 'High income' OR \n",
    "       income='Upper middle income') AND land>10000\n",
    "LIMIT 10"
   ]
  },
  {
   "cell_type": "markdown",
   "metadata": {},
   "source": [
    "- `>=` : greater than or equal to"
   ]
  },
  {
   "cell_type": "markdown",
   "metadata": {},
   "source": [
    "- `<=` : less than or equal to"
   ]
  },
  {
   "cell_type": "markdown",
   "metadata": {},
   "source": [
    "- `<>` : not equal "
   ]
  },
  {
   "cell_type": "code",
   "execution_count": 9,
   "metadata": {},
   "outputs": [
    {
     "name": "stdout",
     "output_type": "stream",
     "text": [
      " * sqlite:///book.db\n",
      "   sqlite:///school.db\n",
      "Done.\n",
      "Returning data to local variable out\n"
     ]
    }
   ],
   "source": [
    "%%sql -- all names that are not 'John'\n",
    "out << SELECT name, sex FROM topnames\n",
    "WHERE name<>'John'"
   ]
  },
  {
   "cell_type": "markdown",
   "metadata": {},
   "source": [
    "## Checking for a Range of Values"
   ]
  },
  {
   "cell_type": "markdown",
   "metadata": {},
   "source": [
    "`WHERE expression BETWEEN expression AND expression` : check the range of values (specify multiple possible for a column)"
   ]
  },
  {
   "cell_type": "markdown",
   "metadata": {},
   "source": [
    "`WHERE expression NOT BETWEEN expression AND expression` : show values that aren't in a prticular range"
   ]
  },
  {
   "cell_type": "code",
   "execution_count": 82,
   "metadata": {
    "scrolled": true
   },
   "outputs": [
    {
     "name": "stdout",
     "output_type": "stream",
     "text": [
      " * sqlite:///C:\\Users\\bilene\\Downloads\\book.db\n",
      "Done.\n"
     ]
    },
    {
     "data": {
      "text/html": [
       "<table>\n",
       "    <tr>\n",
       "        <th>year</th>\n",
       "        <th>code</th>\n",
       "        <th>pop</th>\n",
       "        <th>gdp</th>\n",
       "        <th>life</th>\n",
       "        <th>cell</th>\n",
       "        <th>imports</th>\n",
       "        <th>exports</th>\n",
       "    </tr>\n",
       "    <tr>\n",
       "        <td>1960</td>\n",
       "        <td>ABW</td>\n",
       "        <td>0.05</td>\n",
       "        <td>None</td>\n",
       "        <td>65.7</td>\n",
       "        <td>0.0</td>\n",
       "        <td>None</td>\n",
       "        <td>None</td>\n",
       "    </tr>\n",
       "    <tr>\n",
       "        <td>1960</td>\n",
       "        <td>ARG</td>\n",
       "        <td>20.48</td>\n",
       "        <td>None</td>\n",
       "        <td>65.0</td>\n",
       "        <td>0.0</td>\n",
       "        <td>1227.3</td>\n",
       "        <td>1079.1</td>\n",
       "    </tr>\n",
       "    <tr>\n",
       "        <td>1960</td>\n",
       "        <td>ARM</td>\n",
       "        <td>1.87</td>\n",
       "        <td>None</td>\n",
       "        <td>66.0</td>\n",
       "        <td>0.0</td>\n",
       "        <td>None</td>\n",
       "        <td>None</td>\n",
       "    </tr>\n",
       "    <tr>\n",
       "        <td>1960</td>\n",
       "        <td>AUS</td>\n",
       "        <td>10.28</td>\n",
       "        <td>18.58</td>\n",
       "        <td>70.8</td>\n",
       "        <td>0.0</td>\n",
       "        <td>2524.06</td>\n",
       "        <td>2022.9</td>\n",
       "    </tr>\n",
       "    <tr>\n",
       "        <td>1960</td>\n",
       "        <td>AUT</td>\n",
       "        <td>7.05</td>\n",
       "        <td>6.59</td>\n",
       "        <td>68.6</td>\n",
       "        <td>0.0</td>\n",
       "        <td>1408.8</td>\n",
       "        <td>1118.9</td>\n",
       "    </tr>\n",
       "</table>"
      ],
      "text/plain": [
       "[(1960, 'ABW', 0.05, None, 65.7, 0.0, None, None),\n",
       " (1960, 'ARG', 20.48, None, 65.0, 0.0, 1227.3, 1079.1),\n",
       " (1960, 'ARM', 1.87, None, 66.0, 0.0, None, None),\n",
       " (1960, 'AUS', 10.28, 18.58, 70.8, 0.0, 2524.06, 2022.9),\n",
       " (1960, 'AUT', 7.05, 6.59, 68.6, 0.0, 1408.8, 1118.9)]"
      ]
     },
     "execution_count": 82,
     "metadata": {},
     "output_type": "execute_result"
    }
   ],
   "source": [
    "%%sql\n",
    "SELECT * from indicators\n",
    "WHERE life BETWEEN 65 AND 75\n",
    "LIMIT 5"
   ]
  },
  {
   "cell_type": "markdown",
   "metadata": {},
   "source": [
    "## Using `IN` Operator"
   ]
  },
  {
   "cell_type": "markdown",
   "metadata": {},
   "source": [
    "`WHERE expression IN (ex1, ex2, ...)` : specify a range of conditions \n",
    "- values seperated by commas and enclosed in parentheses"
   ]
  },
  {
   "cell_type": "markdown",
   "metadata": {},
   "source": [
    "`WHERE expression NOT IN (ex1, ex2, ...)` : show values that aren't in a particular range of conditions "
   ]
  },
  {
   "cell_type": "code",
   "execution_count": 32,
   "metadata": {},
   "outputs": [
    {
     "name": "stdout",
     "output_type": "stream",
     "text": [
      " * sqlite:///book.db\n",
      "Done.\n"
     ]
    },
    {
     "data": {
      "text/html": [
       "<table>\n",
       "    <thead>\n",
       "        <tr>\n",
       "            <th>year</th>\n",
       "            <th>code</th>\n",
       "            <th>pop</th>\n",
       "            <th>gdp</th>\n",
       "            <th>life</th>\n",
       "            <th>cell</th>\n",
       "            <th>imports</th>\n",
       "            <th>exports</th>\n",
       "        </tr>\n",
       "    </thead>\n",
       "    <tbody>\n",
       "        <tr>\n",
       "            <td>2017</td>\n",
       "            <td>CHN</td>\n",
       "            <td>1386.4</td>\n",
       "            <td>12143.5</td>\n",
       "            <td>76.4</td>\n",
       "            <td>1469.88</td>\n",
       "            <td>1832130.0</td>\n",
       "            <td>2280090.0</td>\n",
       "        </tr>\n",
       "        <tr>\n",
       "            <td>2017</td>\n",
       "            <td>FRA</td>\n",
       "            <td>66.87</td>\n",
       "            <td>2586.29</td>\n",
       "            <td>82.5</td>\n",
       "            <td>69.02</td>\n",
       "            <td>625663.0</td>\n",
       "            <td>535120.0</td>\n",
       "        </tr>\n",
       "        <tr>\n",
       "            <td>2017</td>\n",
       "            <td>IND</td>\n",
       "            <td>1338.66</td>\n",
       "            <td>2652.55</td>\n",
       "            <td>68.8</td>\n",
       "            <td>1168.9</td>\n",
       "            <td>442983.0</td>\n",
       "            <td>296212.0</td>\n",
       "        </tr>\n",
       "        <tr>\n",
       "            <td>2017</td>\n",
       "            <td>USA</td>\n",
       "            <td>325.15</td>\n",
       "            <td>19485.4</td>\n",
       "            <td>78.5</td>\n",
       "            <td>391.6</td>\n",
       "            <td>2342670.0</td>\n",
       "            <td>1545610.0</td>\n",
       "        </tr>\n",
       "    </tbody>\n",
       "</table>"
      ],
      "text/plain": [
       "[(2017, 'CHN', 1386.4, 12143.5, 76.4, 1469.88, 1832130.0, 2280090.0),\n",
       " (2017, 'FRA', 66.87, 2586.29, 82.5, 69.02, 625663.0, 535120.0),\n",
       " (2017, 'IND', 1338.66, 2652.55, 68.8, 1168.9, 442983.0, 296212.0),\n",
       " (2017, 'USA', 325.15, 19485.4, 78.5, 391.6, 2342670.0, 1545610.0)]"
      ]
     },
     "execution_count": 32,
     "metadata": {},
     "output_type": "execute_result"
    }
   ],
   "source": [
    "%%sql\n",
    "SELECT * FROM indicators\n",
    "WHERE year = 2017 AND code IN ('CHN','IND','FRA','USA')"
   ]
  },
  {
   "cell_type": "markdown",
   "metadata": {},
   "source": [
    "## String Pattern Matching with `LIKE`"
   ]
  },
  {
   "cell_type": "markdown",
   "metadata": {},
   "source": [
    "We can use the relational operator (`=`) to determine if a field matches a string (exactly), but sometimes we need more flexibility matching capabilities.\n",
    "\n",
    "We can use the `LIKE` operator to match string *patterns*."
   ]
  },
  {
   "cell_type": "markdown",
   "metadata": {},
   "source": [
    "`WHERE column LIKE ' '`"
   ]
  },
  {
   "cell_type": "markdown",
   "metadata": {},
   "source": [
    "`WHERE column NOT LIKE ' '`"
   ]
  },
  {
   "cell_type": "markdown",
   "metadata": {},
   "source": [
    "## Wildcards"
   ]
  },
  {
   "cell_type": "markdown",
   "metadata": {},
   "source": [
    "Special characters used to match parts of a value."
   ]
  },
  {
   "cell_type": "markdown",
   "metadata": {},
   "source": [
    "### `%` Wildcard"
   ]
  },
  {
   "cell_type": "markdown",
   "metadata": {},
   "source": [
    "Most frequently used wildcard\n",
    "\n",
    "Within a search string, `%` means *match any number of occurrences of any character*"
   ]
  },
  {
   "cell_type": "code",
   "execution_count": 19,
   "metadata": {
    "scrolled": true
   },
   "outputs": [
    {
     "name": "stdout",
     "output_type": "stream",
     "text": [
      " * sqlite:///book.db\n",
      "Done.\n"
     ]
    },
    {
     "data": {
      "text/html": [
       "<table>\n",
       "    <thead>\n",
       "        <tr>\n",
       "            <th>code</th>\n",
       "            <th>country</th>\n",
       "            <th>region</th>\n",
       "            <th>income</th>\n",
       "            <th>land</th>\n",
       "        </tr>\n",
       "    </thead>\n",
       "    <tbody>\n",
       "        <tr>\n",
       "            <td>ARE</td>\n",
       "            <td>United Arab Emirates</td>\n",
       "            <td>Middle East &amp; North Africa</td>\n",
       "            <td>High income</td>\n",
       "            <td>71020.0</td>\n",
       "        </tr>\n",
       "        <tr>\n",
       "            <td>GBR</td>\n",
       "            <td>United Kingdom</td>\n",
       "            <td>Europe &amp; Central Asia</td>\n",
       "            <td>High income</td>\n",
       "            <td>241930.0</td>\n",
       "        </tr>\n",
       "        <tr>\n",
       "            <td>USA</td>\n",
       "            <td>United States</td>\n",
       "            <td>North America</td>\n",
       "            <td>High income</td>\n",
       "            <td>9147420.0</td>\n",
       "        </tr>\n",
       "    </tbody>\n",
       "</table>"
      ],
      "text/plain": [
       "[('ARE', 'United Arab Emirates', 'Middle East & North Africa', 'High income', 71020.0),\n",
       " ('GBR', 'United Kingdom', 'Europe & Central Asia', 'High income', 241930.0),\n",
       " ('USA', 'United States', 'North America', 'High income', 9147420.0)]"
      ]
     },
     "execution_count": 19,
     "metadata": {},
     "output_type": "execute_result"
    }
   ],
   "source": [
    "%%sql -- find countries that start with 'United'\n",
    "SELECT * FROM countries\n",
    "WHERE country LIKE 'United%'\n",
    "-- % says that there is something after the word 'United'"
   ]
  },
  {
   "cell_type": "markdown",
   "metadata": {},
   "source": [
    "### Underscore (_) Wildcard"
   ]
  },
  {
   "cell_type": "markdown",
   "metadata": {},
   "source": [
    "The underscore is used just like a %, but instead of matching multiple characters, the underscore matches just a single character.\n",
    "\n",
    "We can use multiple underscores to match multiple characters."
   ]
  },
  {
   "cell_type": "code",
   "execution_count": 104,
   "metadata": {
    "scrolled": true
   },
   "outputs": [
    {
     "name": "stdout",
     "output_type": "stream",
     "text": [
      " * sqlite:///C:\\Users\\bilene\\Downloads\\book.db\n",
      "Done.\n"
     ]
    },
    {
     "data": {
      "text/html": [
       "<table>\n",
       "    <tr>\n",
       "        <th>code</th>\n",
       "        <th>country</th>\n",
       "        <th>region</th>\n",
       "        <th>income</th>\n",
       "        <th>land</th>\n",
       "    </tr>\n",
       "    <tr>\n",
       "        <td>DZA</td>\n",
       "        <td>Algeria</td>\n",
       "        <td>Middle East &amp; North Africa</td>\n",
       "        <td>Upper middle income</td>\n",
       "        <td>2381740.0</td>\n",
       "    </tr>\n",
       "    <tr>\n",
       "        <td>TZA</td>\n",
       "        <td>Tanzania</td>\n",
       "        <td>Sub-Saharan Africa</td>\n",
       "        <td>Low income</td>\n",
       "        <td>885800.0</td>\n",
       "    </tr>\n",
       "</table>"
      ],
      "text/plain": [
       "[('DZA', 'Algeria', 'Middle East & North Africa', 'Upper middle income', 2381740.0),\n",
       " ('TZA', 'Tanzania', 'Sub-Saharan Africa', 'Low income', 885800.0)]"
      ]
     },
     "execution_count": 104,
     "metadata": {},
     "output_type": "execute_result"
    }
   ],
   "source": [
    "%%sql -- find codes that have a letter in front of 'ZA'\n",
    "SELECT * FROM countries\n",
    "WHERE code LIKE '_ZA'"
   ]
  },
  {
   "cell_type": "code",
   "execution_count": 26,
   "metadata": {},
   "outputs": [
    {
     "name": "stdout",
     "output_type": "stream",
     "text": [
      " * sqlite:///book.db\n",
      "Done.\n"
     ]
    },
    {
     "data": {
      "text/html": [
       "<table>\n",
       "    <thead>\n",
       "        <tr>\n",
       "            <th>code</th>\n",
       "            <th>country</th>\n",
       "            <th>region</th>\n",
       "            <th>income</th>\n",
       "            <th>land</th>\n",
       "        </tr>\n",
       "    </thead>\n",
       "    <tbody>\n",
       "        <tr>\n",
       "            <td>BFA</td>\n",
       "            <td>Burkina Faso</td>\n",
       "            <td>Sub-Saharan Africa</td>\n",
       "            <td>Low income</td>\n",
       "            <td>273600.0</td>\n",
       "        </tr>\n",
       "        <tr>\n",
       "            <td>BRA</td>\n",
       "            <td>Brazil</td>\n",
       "            <td>Latin America &amp; Caribbean</td>\n",
       "            <td>Upper middle income</td>\n",
       "            <td>8358140.0</td>\n",
       "        </tr>\n",
       "        <tr>\n",
       "            <td>BWA</td>\n",
       "            <td>Botswana</td>\n",
       "            <td>Sub-Saharan Africa</td>\n",
       "            <td>Upper middle income</td>\n",
       "            <td>566730.0</td>\n",
       "        </tr>\n",
       "        <tr>\n",
       "            <td>DMA</td>\n",
       "            <td>Dominica</td>\n",
       "            <td>Latin America &amp; Caribbean</td>\n",
       "            <td>Upper middle income</td>\n",
       "            <td>750.0</td>\n",
       "        </tr>\n",
       "        <tr>\n",
       "            <td>DZA</td>\n",
       "            <td>Algeria</td>\n",
       "            <td>Middle East &amp; North Africa</td>\n",
       "            <td>Upper middle income</td>\n",
       "            <td>2381740.0</td>\n",
       "        </tr>\n",
       "        <tr>\n",
       "            <td>FRA</td>\n",
       "            <td>France</td>\n",
       "            <td>Europe &amp; Central Asia</td>\n",
       "            <td>High income</td>\n",
       "            <td>547557.0</td>\n",
       "        </tr>\n",
       "        <tr>\n",
       "            <td>GHA</td>\n",
       "            <td>Ghana</td>\n",
       "            <td>Sub-Saharan Africa</td>\n",
       "            <td>Lower middle income</td>\n",
       "            <td>227540.0</td>\n",
       "        </tr>\n",
       "        <tr>\n",
       "            <td>ITA</td>\n",
       "            <td>Italy</td>\n",
       "            <td>Europe &amp; Central Asia</td>\n",
       "            <td>High income</td>\n",
       "            <td>294140.0</td>\n",
       "        </tr>\n",
       "        <tr>\n",
       "            <td>KNA</td>\n",
       "            <td>St. Kitts and Nevis</td>\n",
       "            <td>Latin America &amp; Caribbean</td>\n",
       "            <td>High income</td>\n",
       "            <td>260.0</td>\n",
       "        </tr>\n",
       "        <tr>\n",
       "            <td>LCA</td>\n",
       "            <td>St. Lucia</td>\n",
       "            <td>Latin America &amp; Caribbean</td>\n",
       "            <td>Upper middle income</td>\n",
       "            <td>610.0</td>\n",
       "        </tr>\n",
       "        <tr>\n",
       "            <td>LKA</td>\n",
       "            <td>Sri Lanka</td>\n",
       "            <td>South Asia</td>\n",
       "            <td>Upper middle income</td>\n",
       "            <td>62710.0</td>\n",
       "        </tr>\n",
       "        <tr>\n",
       "            <td>LVA</td>\n",
       "            <td>Latvia</td>\n",
       "            <td>Europe &amp; Central Asia</td>\n",
       "            <td>High income</td>\n",
       "            <td>62180.0</td>\n",
       "        </tr>\n",
       "        <tr>\n",
       "            <td>MDA</td>\n",
       "            <td>Moldova</td>\n",
       "            <td>Europe &amp; Central Asia</td>\n",
       "            <td>Lower middle income</td>\n",
       "            <td>32890.0</td>\n",
       "        </tr>\n",
       "        <tr>\n",
       "            <td>NGA</td>\n",
       "            <td>Nigeria</td>\n",
       "            <td>Sub-Saharan Africa</td>\n",
       "            <td>Lower middle income</td>\n",
       "            <td>910770.0</td>\n",
       "        </tr>\n",
       "        <tr>\n",
       "            <td>RWA</td>\n",
       "            <td>Rwanda</td>\n",
       "            <td>Sub-Saharan Africa</td>\n",
       "            <td>Low income</td>\n",
       "            <td>24670.0</td>\n",
       "        </tr>\n",
       "        <tr>\n",
       "            <td>TCA</td>\n",
       "            <td>Turks and Caicos Islands</td>\n",
       "            <td>Latin America &amp; Caribbean</td>\n",
       "            <td>High income</td>\n",
       "            <td>950.0</td>\n",
       "        </tr>\n",
       "        <tr>\n",
       "            <td>THA</td>\n",
       "            <td>Thailand</td>\n",
       "            <td>East Asia &amp; Pacific</td>\n",
       "            <td>Upper middle income</td>\n",
       "            <td>510890.0</td>\n",
       "        </tr>\n",
       "        <tr>\n",
       "            <td>TZA</td>\n",
       "            <td>Tanzania</td>\n",
       "            <td>Sub-Saharan Africa</td>\n",
       "            <td>Low income</td>\n",
       "            <td>885800.0</td>\n",
       "        </tr>\n",
       "        <tr>\n",
       "            <td>UGA</td>\n",
       "            <td>Uganda</td>\n",
       "            <td>Sub-Saharan Africa</td>\n",
       "            <td>Low income</td>\n",
       "            <td>200520.0</td>\n",
       "        </tr>\n",
       "        <tr>\n",
       "            <td>USA</td>\n",
       "            <td>United States</td>\n",
       "            <td>North America</td>\n",
       "            <td>High income</td>\n",
       "            <td>9147420.0</td>\n",
       "        </tr>\n",
       "    </tbody>\n",
       "</table>"
      ],
      "text/plain": [
       "[('BFA', 'Burkina Faso', 'Sub-Saharan Africa', 'Low income', 273600.0),\n",
       " ('BRA', 'Brazil', 'Latin America & Caribbean', 'Upper middle income', 8358140.0),\n",
       " ('BWA', 'Botswana', 'Sub-Saharan Africa', 'Upper middle income', 566730.0),\n",
       " ('DMA', 'Dominica', 'Latin America & Caribbean', 'Upper middle income', 750.0),\n",
       " ('DZA', 'Algeria', 'Middle East & North Africa', 'Upper middle income', 2381740.0),\n",
       " ('FRA', 'France', 'Europe & Central Asia', 'High income', 547557.0),\n",
       " ('GHA', 'Ghana', 'Sub-Saharan Africa', 'Lower middle income', 227540.0),\n",
       " ('ITA', 'Italy', 'Europe & Central Asia', 'High income', 294140.0),\n",
       " ('KNA', 'St. Kitts and Nevis', 'Latin America & Caribbean', 'High income', 260.0),\n",
       " ('LCA', 'St. Lucia', 'Latin America & Caribbean', 'Upper middle income', 610.0),\n",
       " ('LKA', 'Sri Lanka', 'South Asia', 'Upper middle income', 62710.0),\n",
       " ('LVA', 'Latvia', 'Europe & Central Asia', 'High income', 62180.0),\n",
       " ('MDA', 'Moldova', 'Europe & Central Asia', 'Lower middle income', 32890.0),\n",
       " ('NGA', 'Nigeria', 'Sub-Saharan Africa', 'Lower middle income', 910770.0),\n",
       " ('RWA', 'Rwanda', 'Sub-Saharan Africa', 'Low income', 24670.0),\n",
       " ('TCA', 'Turks and Caicos Islands', 'Latin America & Caribbean', 'High income', 950.0),\n",
       " ('THA', 'Thailand', 'East Asia & Pacific', 'Upper middle income', 510890.0),\n",
       " ('TZA', 'Tanzania', 'Sub-Saharan Africa', 'Low income', 885800.0),\n",
       " ('UGA', 'Uganda', 'Sub-Saharan Africa', 'Low income', 200520.0),\n",
       " ('USA', 'United States', 'North America', 'High income', 9147420.0)]"
      ]
     },
     "execution_count": 26,
     "metadata": {},
     "output_type": "execute_result"
    }
   ],
   "source": [
    "%%sql -- find codes that have 2 letters in front of 'A'\n",
    "SELECT * FROM countries\n",
    "WHERE code LIKE '__A'"
   ]
  },
  {
   "cell_type": "code",
   "execution_count": 27,
   "metadata": {
    "scrolled": true
   },
   "outputs": [
    {
     "name": "stdout",
     "output_type": "stream",
     "text": [
      " * sqlite:///book.db\n",
      "Done.\n"
     ]
    },
    {
     "data": {
      "text/html": [
       "<table>\n",
       "    <thead>\n",
       "        <tr>\n",
       "            <th>code</th>\n",
       "            <th>country</th>\n",
       "            <th>region</th>\n",
       "        </tr>\n",
       "    </thead>\n",
       "    <tbody>\n",
       "        <tr>\n",
       "            <td>CAF</td>\n",
       "            <td>Central African Republic</td>\n",
       "            <td>Sub-Saharan Africa</td>\n",
       "        </tr>\n",
       "        <tr>\n",
       "            <td>CZE</td>\n",
       "            <td>Czech Republic</td>\n",
       "            <td>Europe &amp; Central Asia</td>\n",
       "        </tr>\n",
       "        <tr>\n",
       "            <td>DOM</td>\n",
       "            <td>Dominican Republic</td>\n",
       "            <td>Latin America &amp; Caribbean</td>\n",
       "        </tr>\n",
       "        <tr>\n",
       "            <td>DZA</td>\n",
       "            <td>Algeria</td>\n",
       "            <td>Middle East &amp; North Africa</td>\n",
       "        </tr>\n",
       "        <tr>\n",
       "            <td>KGZ</td>\n",
       "            <td>Kyrgyz Republic</td>\n",
       "            <td>Europe &amp; Central Asia</td>\n",
       "        </tr>\n",
       "        <tr>\n",
       "            <td>SVK</td>\n",
       "            <td>Slovak Republic</td>\n",
       "            <td>Europe &amp; Central Asia</td>\n",
       "        </tr>\n",
       "        <tr>\n",
       "            <td>SYR</td>\n",
       "            <td>Syrian Arab Republic</td>\n",
       "            <td>Middle East &amp; North Africa</td>\n",
       "        </tr>\n",
       "        <tr>\n",
       "            <td>TZA</td>\n",
       "            <td>Tanzania</td>\n",
       "            <td>Sub-Saharan Africa</td>\n",
       "        </tr>\n",
       "    </tbody>\n",
       "</table>"
      ],
      "text/plain": [
       "[('CAF', 'Central African Republic', 'Sub-Saharan Africa'),\n",
       " ('CZE', 'Czech Republic', 'Europe & Central Asia'),\n",
       " ('DOM', 'Dominican Republic', 'Latin America & Caribbean'),\n",
       " ('DZA', 'Algeria', 'Middle East & North Africa'),\n",
       " ('KGZ', 'Kyrgyz Republic', 'Europe & Central Asia'),\n",
       " ('SVK', 'Slovak Republic', 'Europe & Central Asia'),\n",
       " ('SYR', 'Syrian Arab Republic', 'Middle East & North Africa'),\n",
       " ('TZA', 'Tanzania', 'Sub-Saharan Africa')]"
      ]
     },
     "execution_count": 27,
     "metadata": {},
     "output_type": "execute_result"
    }
   ],
   "source": [
    "%%sql\n",
    "SELECT code, country, region FROM countries\n",
    "WHERE country LIKE '%Republic' OR code LIKe '_ZA'"
   ]
  },
  {
   "cell_type": "markdown",
   "metadata": {},
   "source": [
    "## Missing Values"
   ]
  },
  {
   "cell_type": "markdown",
   "metadata": {},
   "source": [
    "The special value `NULL` is used to represent missing data in a database.\n",
    "\n",
    "`NULL` should not be mistaken for the value 0, or a blank, or some other data type.\n",
    "\n",
    "We can test for `NULL` using the `IS` operator"
   ]
  },
  {
   "cell_type": "markdown",
   "metadata": {},
   "source": [
    "`WHERE column IS NOT NULL` : show non-missing values in a particular column"
   ]
  },
  {
   "cell_type": "code",
   "execution_count": 29,
   "metadata": {
    "scrolled": true
   },
   "outputs": [
    {
     "name": "stdout",
     "output_type": "stream",
     "text": [
      " * sqlite:///book.db\n",
      "Done.\n",
      "Returning data to local variable out\n"
     ]
    }
   ],
   "source": [
    "%%sql\n",
    "out << SELECT code, country, land FROM countries\n",
    "WHERE land IS NOT NULL\n",
    "-- return land that doesn't have missing values"
   ]
  },
  {
   "cell_type": "markdown",
   "metadata": {},
   "source": [
    "`WHERE column IS NULL` : show missing values in a particular colum"
   ]
  },
  {
   "cell_type": "code",
   "execution_count": 30,
   "metadata": {},
   "outputs": [
    {
     "name": "stdout",
     "output_type": "stream",
     "text": [
      " * sqlite:///book.db\n",
      "Done.\n"
     ]
    },
    {
     "data": {
      "text/html": [
       "<table>\n",
       "    <thead>\n",
       "        <tr>\n",
       "            <th>code</th>\n",
       "            <th>country</th>\n",
       "            <th>land</th>\n",
       "        </tr>\n",
       "    </thead>\n",
       "    <tbody>\n",
       "        <tr>\n",
       "            <td>CUW</td>\n",
       "            <td>Curacao</td>\n",
       "            <td>None</td>\n",
       "        </tr>\n",
       "        <tr>\n",
       "            <td>MAF</td>\n",
       "            <td>St. Martin (French part)</td>\n",
       "            <td>None</td>\n",
       "        </tr>\n",
       "        <tr>\n",
       "            <td>MCO</td>\n",
       "            <td>Monaco</td>\n",
       "            <td>None</td>\n",
       "        </tr>\n",
       "        <tr>\n",
       "            <td>SDN</td>\n",
       "            <td>Sudan</td>\n",
       "            <td>None</td>\n",
       "        </tr>\n",
       "        <tr>\n",
       "            <td>SSD</td>\n",
       "            <td>South Sudan</td>\n",
       "            <td>None</td>\n",
       "        </tr>\n",
       "        <tr>\n",
       "            <td>SXM</td>\n",
       "            <td>Sint Maarten (Dutch part)</td>\n",
       "            <td>None</td>\n",
       "        </tr>\n",
       "        <tr>\n",
       "            <td>XKX</td>\n",
       "            <td>Kosovo</td>\n",
       "            <td>None</td>\n",
       "        </tr>\n",
       "    </tbody>\n",
       "</table>"
      ],
      "text/plain": [
       "[('CUW', 'Curacao', None),\n",
       " ('MAF', 'St. Martin (French part)', None),\n",
       " ('MCO', 'Monaco', None),\n",
       " ('SDN', 'Sudan', None),\n",
       " ('SSD', 'South Sudan', None),\n",
       " ('SXM', 'Sint Maarten (Dutch part)', None),\n",
       " ('XKX', 'Kosovo', None)]"
      ]
     },
     "execution_count": 30,
     "metadata": {},
     "output_type": "execute_result"
    }
   ],
   "source": [
    "%%sql -- return land that has missing values\n",
    "SELECT code, country, land FROM countries\n",
    "WHERE land IS NULL"
   ]
  },
  {
   "cell_type": "markdown",
   "metadata": {},
   "source": [
    "## Calculated Fields"
   ]
  },
  {
   "cell_type": "markdown",
   "metadata": {},
   "source": [
    "Unlike all the columns that we have retrieved thus far, calculated\n",
    "fields do not actually exist in the database tables.\n",
    "Rather, a **calculated field is created on‐the‐fly within a SQL SELECT statement**\n",
    "\n",
    "When an *expression* follows the `SELECT` statement, the computed value generates a new field.\n",
    "\n",
    "We can name the new field using `AS`"
   ]
  },
  {
   "cell_type": "markdown",
   "metadata": {},
   "source": [
    "`SELECT *, calculation AS new name FROM table` : making new column name"
   ]
  },
  {
   "cell_type": "code",
   "execution_count": 6,
   "metadata": {},
   "outputs": [
    {
     "name": "stdout",
     "output_type": "stream",
     "text": [
      " * sqlite:///book.db\n",
      "Done.\n"
     ]
    },
    {
     "data": {
      "text/html": [
       "<table>\n",
       "    <thead>\n",
       "        <tr>\n",
       "            <th>code</th>\n",
       "            <th>pop</th>\n",
       "            <th>gdp</th>\n",
       "            <th>life</th>\n",
       "            <th>cell</th>\n",
       "            <th>new_pop</th>\n",
       "        </tr>\n",
       "    </thead>\n",
       "    <tbody>\n",
       "        <tr>\n",
       "            <td>CHN</td>\n",
       "            <td>1386.4</td>\n",
       "            <td>12143.5</td>\n",
       "            <td>76.4</td>\n",
       "            <td>1469.88</td>\n",
       "            <td>1594.36</td>\n",
       "        </tr>\n",
       "        <tr>\n",
       "            <td>FRA</td>\n",
       "            <td>66.87</td>\n",
       "            <td>2586.29</td>\n",
       "            <td>82.5</td>\n",
       "            <td>69.02</td>\n",
       "            <td>76.9005</td>\n",
       "        </tr>\n",
       "        <tr>\n",
       "            <td>GBR</td>\n",
       "            <td>66.06</td>\n",
       "            <td>2637.87</td>\n",
       "            <td>81.2</td>\n",
       "            <td>79.1</td>\n",
       "            <td>75.969</td>\n",
       "        </tr>\n",
       "        <tr>\n",
       "            <td>IND</td>\n",
       "            <td>1338.66</td>\n",
       "            <td>2652.55</td>\n",
       "            <td>68.8</td>\n",
       "            <td>1168.9</td>\n",
       "            <td>1539.459</td>\n",
       "        </tr>\n",
       "        <tr>\n",
       "            <td>USA</td>\n",
       "            <td>325.15</td>\n",
       "            <td>19485.4</td>\n",
       "            <td>78.5</td>\n",
       "            <td>391.6</td>\n",
       "            <td>373.92249999999996</td>\n",
       "        </tr>\n",
       "    </tbody>\n",
       "</table>"
      ],
      "text/plain": [
       "[('CHN', 1386.4, 12143.5, 76.4, 1469.88, 1594.36),\n",
       " ('FRA', 66.87, 2586.29, 82.5, 69.02, 76.9005),\n",
       " ('GBR', 66.06, 2637.87, 81.2, 79.1, 75.969),\n",
       " ('IND', 1338.66, 2652.55, 68.8, 1168.9, 1539.459),\n",
       " ('USA', 325.15, 19485.4, 78.5, 391.6, 373.92249999999996)]"
      ]
     },
     "execution_count": 6,
     "metadata": {},
     "output_type": "execute_result"
    }
   ],
   "source": [
    "%%sql -- show 15% increase in population \n",
    "SELECT *,pop*1.15 AS new_pop FROM indicators0\n",
    "\n",
    "-- applied only to output table, not database"
   ]
  },
  {
   "cell_type": "code",
   "execution_count": 20,
   "metadata": {},
   "outputs": [
    {
     "name": "stdout",
     "output_type": "stream",
     "text": [
      " * sqlite:///book.db\n",
      "Done.\n"
     ]
    },
    {
     "data": {
      "text/html": [
       "<table>\n",
       "    <thead>\n",
       "        <tr>\n",
       "            <th>code</th>\n",
       "            <th>pop</th>\n",
       "            <th>gdp</th>\n",
       "            <th>life</th>\n",
       "            <th>cell</th>\n",
       "            <th>longlife</th>\n",
       "        </tr>\n",
       "    </thead>\n",
       "    <tbody>\n",
       "        <tr>\n",
       "            <td>CHN</td>\n",
       "            <td>1386.4</td>\n",
       "            <td>12143.5</td>\n",
       "            <td>76.4</td>\n",
       "            <td>1469.88</td>\n",
       "            <td>1</td>\n",
       "        </tr>\n",
       "        <tr>\n",
       "            <td>FRA</td>\n",
       "            <td>66.87</td>\n",
       "            <td>2586.29</td>\n",
       "            <td>82.5</td>\n",
       "            <td>69.02</td>\n",
       "            <td>1</td>\n",
       "        </tr>\n",
       "        <tr>\n",
       "            <td>GBR</td>\n",
       "            <td>66.06</td>\n",
       "            <td>2637.87</td>\n",
       "            <td>81.2</td>\n",
       "            <td>79.1</td>\n",
       "            <td>1</td>\n",
       "        </tr>\n",
       "        <tr>\n",
       "            <td>IND</td>\n",
       "            <td>1338.66</td>\n",
       "            <td>2652.55</td>\n",
       "            <td>68.8</td>\n",
       "            <td>1168.9</td>\n",
       "            <td>0</td>\n",
       "        </tr>\n",
       "        <tr>\n",
       "            <td>USA</td>\n",
       "            <td>325.15</td>\n",
       "            <td>19485.4</td>\n",
       "            <td>78.5</td>\n",
       "            <td>391.6</td>\n",
       "            <td>1</td>\n",
       "        </tr>\n",
       "    </tbody>\n",
       "</table>"
      ],
      "text/plain": [
       "[('CHN', 1386.4, 12143.5, 76.4, 1469.88, 1),\n",
       " ('FRA', 66.87, 2586.29, 82.5, 69.02, 1),\n",
       " ('GBR', 66.06, 2637.87, 81.2, 79.1, 1),\n",
       " ('IND', 1338.66, 2652.55, 68.8, 1168.9, 0),\n",
       " ('USA', 325.15, 19485.4, 78.5, 391.6, 1)]"
      ]
     },
     "execution_count": 20,
     "metadata": {},
     "output_type": "execute_result"
    }
   ],
   "source": [
    "%%sql\n",
    "/* create a new dummy varaible, \n",
    "longlife where it equals 1 if life>75, 0 otherwise */\n",
    "SELECT *, life>75 AS longlife FROM indicators0\n",
    "-- sql will automoatically implement the if-statment with booleans"
   ]
  },
  {
   "cell_type": "code",
   "execution_count": 9,
   "metadata": {},
   "outputs": [
    {
     "name": "stdout",
     "output_type": "stream",
     "text": [
      " * sqlite:///book.db\n",
      "Done.\n"
     ]
    },
    {
     "data": {
      "text/html": [
       "<table>\n",
       "    <thead>\n",
       "        <tr>\n",
       "            <th>code</th>\n",
       "            <th>gdp</th>\n",
       "            <th>life</th>\n",
       "            <th>cell</th>\n",
       "            <th>longlife</th>\n",
       "        </tr>\n",
       "    </thead>\n",
       "    <tbody>\n",
       "        <tr>\n",
       "            <td>CHN</td>\n",
       "            <td>12143.5</td>\n",
       "            <td>76.4</td>\n",
       "            <td>1469.88</td>\n",
       "            <td>1</td>\n",
       "        </tr>\n",
       "        <tr>\n",
       "            <td>FRA</td>\n",
       "            <td>2586.29</td>\n",
       "            <td>82.5</td>\n",
       "            <td>69.02</td>\n",
       "            <td>1</td>\n",
       "        </tr>\n",
       "        <tr>\n",
       "            <td>GBR</td>\n",
       "            <td>2637.87</td>\n",
       "            <td>81.2</td>\n",
       "            <td>79.1</td>\n",
       "            <td>1</td>\n",
       "        </tr>\n",
       "        <tr>\n",
       "            <td>IND</td>\n",
       "            <td>2652.55</td>\n",
       "            <td>68.8</td>\n",
       "            <td>1168.9</td>\n",
       "            <td>0</td>\n",
       "        </tr>\n",
       "        <tr>\n",
       "            <td>USA</td>\n",
       "            <td>19485.4</td>\n",
       "            <td>78.5</td>\n",
       "            <td>391.6</td>\n",
       "            <td>1</td>\n",
       "        </tr>\n",
       "    </tbody>\n",
       "</table>"
      ],
      "text/plain": [
       "[('CHN', 12143.5, 76.4, 1469.88, 1),\n",
       " ('FRA', 2586.29, 82.5, 69.02, 1),\n",
       " ('GBR', 2637.87, 81.2, 79.1, 1),\n",
       " ('IND', 2652.55, 68.8, 1168.9, 0),\n",
       " ('USA', 19485.4, 78.5, 391.6, 1)]"
      ]
     },
     "execution_count": 9,
     "metadata": {},
     "output_type": "execute_result"
    }
   ],
   "source": [
    "%%sql\n",
    "-- need to type each column name if want to take away old column\n",
    "SELECT code, gdp, life, cell, life>75 AS longlife FROM indicators0"
   ]
  },
  {
   "cell_type": "markdown",
   "metadata": {},
   "source": [
    "## Concatenating Fields"
   ]
  },
  {
   "cell_type": "markdown",
   "metadata": {},
   "source": [
    "`SELECT column,_____ AS new_column_name FROM table` : concatenate columns \n",
    "\n",
    "To concatenate, SQL usses 2 pipes (`||`), it does not have a plus sign (`+`)"
   ]
  },
  {
   "cell_type": "code",
   "execution_count": 19,
   "metadata": {},
   "outputs": [
    {
     "name": "stdout",
     "output_type": "stream",
     "text": [
      " * sqlite:///book.db\n",
      "Done.\n"
     ]
    },
    {
     "data": {
      "text/html": [
       "<table>\n",
       "    <thead>\n",
       "        <tr>\n",
       "            <th>code</th>\n",
       "            <th>country</th>\n",
       "            <th>region</th>\n",
       "            <th>income</th>\n",
       "            <th>land</th>\n",
       "            <th>country2</th>\n",
       "        </tr>\n",
       "    </thead>\n",
       "    <tbody>\n",
       "        <tr>\n",
       "            <td>FRA</td>\n",
       "            <td>France</td>\n",
       "            <td>Europe &amp; Central Asia</td>\n",
       "            <td>High income</td>\n",
       "            <td>547557.0</td>\n",
       "            <td>France (FRA)</td>\n",
       "        </tr>\n",
       "        <tr>\n",
       "            <td>IND</td>\n",
       "            <td>India</td>\n",
       "            <td>South Asia</td>\n",
       "            <td>Lower middle income</td>\n",
       "            <td>2973190.0</td>\n",
       "            <td>India (IND)</td>\n",
       "        </tr>\n",
       "        <tr>\n",
       "            <td>GBR</td>\n",
       "            <td>United Kingdom</td>\n",
       "            <td>Europe &amp; Central Asia</td>\n",
       "            <td>High income</td>\n",
       "            <td>241930.0</td>\n",
       "            <td>United Kingdom (GBR)</td>\n",
       "        </tr>\n",
       "        <tr>\n",
       "            <td>USA</td>\n",
       "            <td>United States</td>\n",
       "            <td>North America</td>\n",
       "            <td>High income</td>\n",
       "            <td>9147420.0</td>\n",
       "            <td>United States (USA)</td>\n",
       "        </tr>\n",
       "    </tbody>\n",
       "</table>"
      ],
      "text/plain": [
       "[('FRA', 'France', 'Europe & Central Asia', 'High income', 547557.0, 'France (FRA)'),\n",
       " ('IND', 'India', 'South Asia', 'Lower middle income', 2973190.0, 'India (IND)'),\n",
       " ('GBR', 'United Kingdom', 'Europe & Central Asia', 'High income', 241930.0, 'United Kingdom (GBR)'),\n",
       " ('USA', 'United States', 'North America', 'High income', 9147420.0, 'United States (USA)')]"
      ]
     },
     "execution_count": 19,
     "metadata": {},
     "output_type": "execute_result"
    }
   ],
   "source": [
    "%%sql --example\n",
    "SELECT *, country || ' (' || code || ')' AS country2 FROM countries\n",
    "\n",
    "/*filter only France, India, United Kingdom and United States \n",
    "(row filter) */\n",
    "WHERE code IN ('FRA', 'GBR', 'IND', 'USA')\n",
    "ORDER BY country2"
   ]
  },
  {
   "cell_type": "markdown",
   "metadata": {},
   "source": [
    "## Aggregation"
   ]
  },
  {
   "cell_type": "markdown",
   "metadata": {},
   "source": [
    "In the context of a single table, we want the ability to aggregate one or more columns, possibly in conjunction with filtering so that\n",
    "the aggregation is over a subset of rows."
   ]
  },
  {
   "cell_type": "markdown",
   "metadata": {},
   "source": [
    "### The `COUNT()` Function"
   ]
  },
  {
   "cell_type": "markdown",
   "metadata": {},
   "source": [
    "Can determine the number of rows in a table or the number of rows that match a specific criteria."
   ]
  },
  {
   "cell_type": "markdown",
   "metadata": {},
   "source": [
    "`SELECT COUNT(*) AS total FROM table` : to count the number of rows in a table \n",
    "\n",
    "(including rows that have NULLs)"
   ]
  },
  {
   "cell_type": "code",
   "execution_count": 26,
   "metadata": {},
   "outputs": [
    {
     "name": "stdout",
     "output_type": "stream",
     "text": [
      " * sqlite:///book.db\n",
      "Done.\n"
     ]
    },
    {
     "data": {
      "text/html": [
       "<table>\n",
       "    <thead>\n",
       "        <tr>\n",
       "            <th>total</th>\n",
       "        </tr>\n",
       "    </thead>\n",
       "    <tbody>\n",
       "        <tr>\n",
       "            <td>217</td>\n",
       "        </tr>\n",
       "    </tbody>\n",
       "</table>"
      ],
      "text/plain": [
       "[(217,)]"
      ]
     },
     "execution_count": 26,
     "metadata": {},
     "output_type": "execute_result"
    }
   ],
   "source": [
    "%%sql\n",
    "/*keep in mind the missing values in countries\n",
    "(count all values) */\n",
    "SELECT COUNT(*) AS total FROM countries"
   ]
  },
  {
   "cell_type": "markdown",
   "metadata": {},
   "source": [
    "`SELECT COUNT(column) as total FROM table` : to count the number of rows that have values in a specific column\n",
    "\n",
    "(ignoring NULL values)"
   ]
  },
  {
   "cell_type": "code",
   "execution_count": 28,
   "metadata": {},
   "outputs": [
    {
     "name": "stdout",
     "output_type": "stream",
     "text": [
      " * sqlite:///book.db\n",
      "Done.\n"
     ]
    },
    {
     "data": {
      "text/html": [
       "<table>\n",
       "    <thead>\n",
       "        <tr>\n",
       "            <th>has_area</th>\n",
       "        </tr>\n",
       "    </thead>\n",
       "    <tbody>\n",
       "        <tr>\n",
       "            <td>210</td>\n",
       "        </tr>\n",
       "    </tbody>\n",
       "</table>"
      ],
      "text/plain": [
       "[(210,)]"
      ]
     },
     "execution_count": 28,
     "metadata": {},
     "output_type": "execute_result"
    }
   ],
   "source": [
    "%%sql\n",
    "-- (counts only non missing values in land)\n",
    "SELECT COUNT(land) AS has_area FROM countries"
   ]
  },
  {
   "cell_type": "code",
   "execution_count": 30,
   "metadata": {},
   "outputs": [
    {
     "name": "stdout",
     "output_type": "stream",
     "text": [
      " * sqlite:///book.db\n",
      "Done.\n"
     ]
    },
    {
     "data": {
      "text/html": [
       "<table>\n",
       "    <thead>\n",
       "        <tr>\n",
       "            <th>total</th>\n",
       "            <th>has_area</th>\n",
       "        </tr>\n",
       "    </thead>\n",
       "    <tbody>\n",
       "        <tr>\n",
       "            <td>217</td>\n",
       "            <td>210</td>\n",
       "        </tr>\n",
       "    </tbody>\n",
       "</table>"
      ],
      "text/plain": [
       "[(217, 210)]"
      ]
     },
     "execution_count": 30,
     "metadata": {},
     "output_type": "execute_result"
    }
   ],
   "source": [
    "%%sql\n",
    "-- can put the two in same table\n",
    "SELECT COUNT(*) AS total, COUNT(land) AS has_area FROM countries"
   ]
  },
  {
   "cell_type": "markdown",
   "metadata": {},
   "source": [
    "**Common SQL Aggregation Methods**\n",
    "- `AVG(expression)` : average of non-NULL values of an expression\n",
    "- `MAX(expression)` : maximum non-NULL value of an expression\n",
    "- `MIN(expression)` : minimum non-NULL value of an expression\n",
    "- `SUM(expression` : sum of non-NULL values of an expression"
   ]
  },
  {
   "cell_type": "markdown",
   "metadata": {},
   "source": [
    "### Uniqueness"
   ]
  },
  {
   "cell_type": "markdown",
   "metadata": {},
   "source": [
    "`SELECT DISTINCT column FROM table` : return distinct values in a table"
   ]
  },
  {
   "cell_type": "code",
   "execution_count": 12,
   "metadata": {},
   "outputs": [
    {
     "name": "stdout",
     "output_type": "stream",
     "text": [
      " * sqlite:///book.db\n",
      "Done.\n"
     ]
    },
    {
     "data": {
      "text/html": [
       "<table>\n",
       "    <thead>\n",
       "        <tr>\n",
       "            <th>region</th>\n",
       "            <th>income</th>\n",
       "        </tr>\n",
       "    </thead>\n",
       "    <tbody>\n",
       "        <tr>\n",
       "            <td>Latin America &amp; Caribbean</td>\n",
       "            <td>High income</td>\n",
       "        </tr>\n",
       "        <tr>\n",
       "            <td>South Asia</td>\n",
       "            <td>Low income</td>\n",
       "        </tr>\n",
       "        <tr>\n",
       "            <td>Sub-Saharan Africa</td>\n",
       "            <td>Lower middle income</td>\n",
       "        </tr>\n",
       "        <tr>\n",
       "            <td>Europe &amp; Central Asia</td>\n",
       "            <td>Upper middle income</td>\n",
       "        </tr>\n",
       "        <tr>\n",
       "            <td>Europe &amp; Central Asia</td>\n",
       "            <td>High income</td>\n",
       "        </tr>\n",
       "        <tr>\n",
       "            <td>Middle East &amp; North Africa</td>\n",
       "            <td>High income</td>\n",
       "        </tr>\n",
       "    </tbody>\n",
       "</table>"
      ],
      "text/plain": [
       "[('Latin America & Caribbean', 'High income'),\n",
       " ('South Asia', 'Low income'),\n",
       " ('Sub-Saharan Africa', 'Lower middle income'),\n",
       " ('Europe & Central Asia', 'Upper middle income'),\n",
       " ('Europe & Central Asia', 'High income'),\n",
       " ('Middle East & North Africa', 'High income')]"
      ]
     },
     "execution_count": 12,
     "metadata": {},
     "output_type": "execute_result"
    }
   ],
   "source": [
    "%%sql\n",
    "SELECT DISTINCT region, income FROM countries\n",
    "LIMIT 6"
   ]
  },
  {
   "cell_type": "markdown",
   "metadata": {},
   "source": [
    "`SELECT COUNT(DISTINCT column) FROM table` : count unique instances of a field"
   ]
  },
  {
   "cell_type": "code",
   "execution_count": 35,
   "metadata": {},
   "outputs": [
    {
     "name": "stdout",
     "output_type": "stream",
     "text": [
      " * sqlite:///book.db\n",
      "Done.\n"
     ]
    },
    {
     "data": {
      "text/html": [
       "<table>\n",
       "    <thead>\n",
       "        <tr>\n",
       "            <th>num_name</th>\n",
       "        </tr>\n",
       "    </thead>\n",
       "    <tbody>\n",
       "        <tr>\n",
       "            <td>18</td>\n",
       "        </tr>\n",
       "    </tbody>\n",
       "</table>"
      ],
      "text/plain": [
       "[(18,)]"
      ]
     },
     "execution_count": 35,
     "metadata": {},
     "output_type": "execute_result"
    }
   ],
   "source": [
    "%%sql\n",
    "-- count the unique names\n",
    "SELECT COUNT(DISTINCT name) AS num_name FROM topnames"
   ]
  },
  {
   "cell_type": "markdown",
   "metadata": {},
   "source": [
    "`SELECT AVG(column) FROM table` : average of the non-NULL values of a column from the rows of the result"
   ]
  },
  {
   "cell_type": "markdown",
   "metadata": {},
   "source": [
    "`SELECT ROUND(AVG(column), 2) FROM indicators0` : round to 2nd decimal point"
   ]
  },
  {
   "cell_type": "code",
   "execution_count": 38,
   "metadata": {
    "scrolled": true
   },
   "outputs": [
    {
     "name": "stdout",
     "output_type": "stream",
     "text": [
      " * sqlite:///book.db\n",
      "Done.\n"
     ]
    },
    {
     "data": {
      "text/html": [
       "<table>\n",
       "    <thead>\n",
       "        <tr>\n",
       "            <th>ROUND(AVG(pop), 2)</th>\n",
       "            <th>AVG(gdp)</th>\n",
       "            <th>AVG(life)</th>\n",
       "            <th>AVG(cell)</th>\n",
       "            <th>num_obs</th>\n",
       "        </tr>\n",
       "    </thead>\n",
       "    <tbody>\n",
       "        <tr>\n",
       "            <td>636.63</td>\n",
       "            <td>7901.122</td>\n",
       "            <td>77.48</td>\n",
       "            <td>635.7</td>\n",
       "            <td>5</td>\n",
       "        </tr>\n",
       "    </tbody>\n",
       "</table>"
      ],
      "text/plain": [
       "[(636.63, 7901.122, 77.48, 635.7, 5)]"
      ]
     },
     "execution_count": 38,
     "metadata": {},
     "output_type": "execute_result"
    }
   ],
   "source": [
    "%%sql\n",
    "-- average number of observations in each\n",
    "SELECT ROUND(AVG(pop), 2), AVG(gdp), AVG(life), AVG(cell), COUNT(*) AS num_obs \n",
    "FROM indicators0"
   ]
  },
  {
   "cell_type": "markdown",
   "metadata": {},
   "source": [
    "### Subqueries"
   ]
  },
  {
   "cell_type": "markdown",
   "metadata": {},
   "source": [
    "All the `SELECT` statements we have seen thus far are simply queries—single statements retrieving data from individual database\n",
    "tables.\n",
    "\n",
    "SQL also enables you to create subqueries— queries that are embedded into other queries."
   ]
  },
  {
   "cell_type": "code",
   "execution_count": 41,
   "metadata": {
    "scrolled": true
   },
   "outputs": [
    {
     "name": "stdout",
     "output_type": "stream",
     "text": [
      " * sqlite:///book.db\n",
      "Done.\n"
     ]
    },
    {
     "data": {
      "text/html": [
       "<table>\n",
       "    <thead>\n",
       "        <tr>\n",
       "            <th>mean_gdp</th>\n",
       "        </tr>\n",
       "    </thead>\n",
       "    <tbody>\n",
       "        <tr>\n",
       "            <td>7901.122</td>\n",
       "        </tr>\n",
       "    </tbody>\n",
       "</table>"
      ],
      "text/plain": [
       "[(7901.122,)]"
      ]
     },
     "execution_count": 41,
     "metadata": {},
     "output_type": "execute_result"
    }
   ],
   "source": [
    "%%sql \n",
    "-- get average gdp in indicators0\n",
    "SELECT AVG(gdp) AS mean_gdp FROM indicators0"
   ]
  },
  {
   "cell_type": "code",
   "execution_count": 42,
   "metadata": {},
   "outputs": [
    {
     "name": "stdout",
     "output_type": "stream",
     "text": [
      " * sqlite:///book.db\n",
      "Done.\n"
     ]
    },
    {
     "data": {
      "text/html": [
       "<table>\n",
       "    <thead>\n",
       "        <tr>\n",
       "            <th>code</th>\n",
       "            <th>pop</th>\n",
       "            <th>gdp</th>\n",
       "            <th>life</th>\n",
       "            <th>cell</th>\n",
       "        </tr>\n",
       "    </thead>\n",
       "    <tbody>\n",
       "        <tr>\n",
       "            <td>CHN</td>\n",
       "            <td>1386.4</td>\n",
       "            <td>12143.5</td>\n",
       "            <td>76.4</td>\n",
       "            <td>1469.88</td>\n",
       "        </tr>\n",
       "        <tr>\n",
       "            <td>USA</td>\n",
       "            <td>325.15</td>\n",
       "            <td>19485.4</td>\n",
       "            <td>78.5</td>\n",
       "            <td>391.6</td>\n",
       "        </tr>\n",
       "    </tbody>\n",
       "</table>"
      ],
      "text/plain": [
       "[('CHN', 1386.4, 12143.5, 76.4, 1469.88),\n",
       " ('USA', 325.15, 19485.4, 78.5, 391.6)]"
      ]
     },
     "execution_count": 42,
     "metadata": {},
     "output_type": "execute_result"
    }
   ],
   "source": [
    "%%sql -- subquery example\n",
    "/* can run sql queries in sql queries\n",
    "compute average gdp and print out the gdp when gdp > the mean*/\n",
    "SELECT * FROM indicators0\n",
    "WHERE gdp  > (SELECT AVG(gdp) AS mean FROM indicators0)"
   ]
  },
  {
   "cell_type": "markdown",
   "metadata": {},
   "source": [
    "## Partitioning and Aggregating"
   ]
  },
  {
   "cell_type": "markdown",
   "metadata": {},
   "source": [
    "Aggregations that are based on the partitioning of a data table allow us to compare between different categories of the rows in our table.\n",
    "\n",
    "The SQL adds a `GROUP BY` clause that follows the `WHERE` clause. After the `GROUP BY` keywords, we specify one or more field‐spec, which are used to determine, based on their unique set of values, the partitions."
   ]
  },
  {
   "cell_type": "markdown",
   "metadata": {},
   "source": [
    "### `GROUP BY` Function"
   ]
  },
  {
   "cell_type": "markdown",
   "metadata": {},
   "source": [
    "`SELECT column FROM table`\n",
    "\n",
    "`WHERE condition GROUP BY column`"
   ]
  },
  {
   "cell_type": "markdown",
   "metadata": {},
   "source": [
    "`SELECT column FROM table` \n",
    "\n",
    "`GROUP BY column` : compare different categroies of the rows in the table"
   ]
  },
  {
   "cell_type": "markdown",
   "metadata": {},
   "source": [
    "example 1"
   ]
  },
  {
   "cell_type": "code",
   "execution_count": 43,
   "metadata": {
    "scrolled": true
   },
   "outputs": [
    {
     "name": "stdout",
     "output_type": "stream",
     "text": [
      " * sqlite:///book.db\n",
      "Done.\n"
     ]
    },
    {
     "data": {
      "text/html": [
       "<table>\n",
       "    <thead>\n",
       "        <tr>\n",
       "            <th>SUM(land)</th>\n",
       "        </tr>\n",
       "    </thead>\n",
       "    <tbody>\n",
       "        <tr>\n",
       "            <td>127307840.0</td>\n",
       "        </tr>\n",
       "    </tbody>\n",
       "</table>"
      ],
      "text/plain": [
       "[(127307840.0,)]"
      ]
     },
     "execution_count": 43,
     "metadata": {},
     "output_type": "execute_result"
    }
   ],
   "source": [
    "%%sql\n",
    "-- return total land area of the entire dataset\n",
    "SELECT SUM(land) FROM countries"
   ]
  },
  {
   "cell_type": "code",
   "execution_count": 47,
   "metadata": {
    "scrolled": true
   },
   "outputs": [
    {
     "name": "stdout",
     "output_type": "stream",
     "text": [
      " * sqlite:///book.db\n",
      "Done.\n"
     ]
    },
    {
     "data": {
      "text/html": [
       "<table>\n",
       "    <thead>\n",
       "        <tr>\n",
       "            <th>region</th>\n",
       "            <th>total_area</th>\n",
       "        </tr>\n",
       "    </thead>\n",
       "    <tbody>\n",
       "        <tr>\n",
       "            <td>Europe &amp; Central Asia</td>\n",
       "            <td>27429254.6</td>\n",
       "        </tr>\n",
       "        <tr>\n",
       "            <td>East Asia &amp; Pacific</td>\n",
       "            <td>24361338.4</td>\n",
       "        </tr>\n",
       "        <tr>\n",
       "            <td>Sub-Saharan Africa</td>\n",
       "            <td>21242361.0</td>\n",
       "        </tr>\n",
       "        <tr>\n",
       "            <td>Latin America &amp; Caribbean</td>\n",
       "            <td>20038832.0</td>\n",
       "        </tr>\n",
       "        <tr>\n",
       "            <td>North America</td>\n",
       "            <td>18240984.0</td>\n",
       "        </tr>\n",
       "        <tr>\n",
       "            <td>Middle East &amp; North Africa</td>\n",
       "            <td>11223466.0</td>\n",
       "        </tr>\n",
       "        <tr>\n",
       "            <td>South Asia</td>\n",
       "            <td>4771604.0</td>\n",
       "        </tr>\n",
       "    </tbody>\n",
       "</table>"
      ],
      "text/plain": [
       "[('Europe & Central Asia', 27429254.6),\n",
       " ('East Asia & Pacific', 24361338.4),\n",
       " ('Sub-Saharan Africa', 21242361.0),\n",
       " ('Latin America & Caribbean', 20038832.0),\n",
       " ('North America', 18240984.0),\n",
       " ('Middle East & North Africa', 11223466.0),\n",
       " ('South Asia', 4771604.0)]"
      ]
     },
     "execution_count": 47,
     "metadata": {},
     "output_type": "execute_result"
    }
   ],
   "source": [
    "%%sql -- return total land area by region\n",
    "SELECT region, SUM(land) AS total_area FROM countries \n",
    "--call table 1st\n",
    "\n",
    "GROUP BY region \n",
    "--reshape table after calling it\n",
    "\n",
    "ORDER BY total_area DESC"
   ]
  },
  {
   "cell_type": "markdown",
   "metadata": {},
   "source": [
    "example 2"
   ]
  },
  {
   "cell_type": "code",
   "execution_count": null,
   "metadata": {},
   "outputs": [],
   "source": [
    "## group by sex"
   ]
  },
  {
   "cell_type": "code",
   "execution_count": 36,
   "metadata": {},
   "outputs": [
    {
     "name": "stdout",
     "output_type": "stream",
     "text": [
      " * sqlite:///book.db\n",
      "Done.\n"
     ]
    },
    {
     "data": {
      "text/html": [
       "<table>\n",
       "    <thead>\n",
       "        <tr>\n",
       "            <th>sex</th>\n",
       "            <th>avg_count</th>\n",
       "            <th>total_name</th>\n",
       "        </tr>\n",
       "    </thead>\n",
       "    <tbody>\n",
       "        <tr>\n",
       "            <td>Female</td>\n",
       "            <td>42372.676258992804</td>\n",
       "            <td>10</td>\n",
       "        </tr>\n",
       "        <tr>\n",
       "            <td>Male</td>\n",
       "            <td>47597.81294964029</td>\n",
       "            <td>8</td>\n",
       "        </tr>\n",
       "    </tbody>\n",
       "</table>"
      ],
      "text/plain": [
       "[('Female', 42372.676258992804, 10), ('Male', 47597.81294964029, 8)]"
      ]
     },
     "execution_count": 36,
     "metadata": {},
     "output_type": "execute_result"
    }
   ],
   "source": [
    "%%sql\n",
    "SELECT sex, AVG(count) AS avg_count, \n",
    "    COUNT(DISTINCT name) AS total_name FROM topnames\n",
    "GROUP BY sex"
   ]
  },
  {
   "cell_type": "code",
   "execution_count": null,
   "metadata": {},
   "outputs": [],
   "source": [
    "## group by year"
   ]
  },
  {
   "cell_type": "code",
   "execution_count": 12,
   "metadata": {
    "scrolled": true
   },
   "outputs": [
    {
     "name": "stdout",
     "output_type": "stream",
     "text": [
      " * sqlite:///book.db\n",
      "   sqlite:///school.db\n",
      "Done.\n",
      "Returning data to local variable out\n"
     ]
    }
   ],
   "source": [
    "%%sql\n",
    "out << SELECT year, AVG(count) AS avg_count FROM topnames\n",
    "GROUP BY year"
   ]
  },
  {
   "cell_type": "code",
   "execution_count": null,
   "metadata": {},
   "outputs": [],
   "source": [
    "# group by name"
   ]
  },
  {
   "cell_type": "code",
   "execution_count": 13,
   "metadata": {},
   "outputs": [
    {
     "name": "stdout",
     "output_type": "stream",
     "text": [
      " * sqlite:///book.db\n",
      "   sqlite:///school.db\n",
      "Done.\n",
      "Returning data to local variable out\n"
     ]
    }
   ],
   "source": [
    "%%sql\n",
    "out << SELECT name, AVG(year) AS avg_year, TOTAL(count) AS total_count FROM topnames\n",
    "GROUP BY name\n",
    "ORDER BY total_count DESC"
   ]
  },
  {
   "cell_type": "markdown",
   "metadata": {},
   "source": [
    "11/3"
   ]
  },
  {
   "cell_type": "markdown",
   "metadata": {},
   "source": [
    "## Filtering Groups"
   ]
  },
  {
   "cell_type": "markdown",
   "metadata": {},
   "source": [
    "`SELECT column FROM table` \n",
    "\n",
    "`GROUP BY column`\n",
    "\n",
    "`HAVING ___` : if filter after `GROUP BY`"
   ]
  },
  {
   "cell_type": "code",
   "execution_count": 5,
   "metadata": {},
   "outputs": [
    {
     "name": "stdout",
     "output_type": "stream",
     "text": [
      " * sqlite:///book.db\n",
      "Done.\n"
     ]
    },
    {
     "data": {
      "text/html": [
       "<table>\n",
       "    <thead>\n",
       "        <tr>\n",
       "            <th>region</th>\n",
       "            <th>total_area</th>\n",
       "        </tr>\n",
       "    </thead>\n",
       "    <tbody>\n",
       "        <tr>\n",
       "            <td>East Asia &amp; Pacific</td>\n",
       "            <td>24361338.4</td>\n",
       "        </tr>\n",
       "        <tr>\n",
       "            <td>Europe &amp; Central Asia</td>\n",
       "            <td>27429254.6</td>\n",
       "        </tr>\n",
       "        <tr>\n",
       "            <td>Latin America &amp; Caribbean</td>\n",
       "            <td>20038832.0</td>\n",
       "        </tr>\n",
       "        <tr>\n",
       "            <td>Sub-Saharan Africa</td>\n",
       "            <td>21242361.0</td>\n",
       "        </tr>\n",
       "    </tbody>\n",
       "</table>"
      ],
      "text/plain": [
       "[('East Asia & Pacific', 24361338.4),\n",
       " ('Europe & Central Asia', 27429254.6),\n",
       " ('Latin America & Caribbean', 20038832.0),\n",
       " ('Sub-Saharan Africa', 21242361.0)]"
      ]
     },
     "execution_count": 5,
     "metadata": {},
     "output_type": "execute_result"
    }
   ],
   "source": [
    "%%sql\n",
    "SELECT region, SUM(land) AS total_area FROM countries\n",
    "GROUP BY region\n",
    "-- if filter after GROUP BY, use HAVING\n",
    "HAVING  total_area > 20000000"
   ]
  }
 ],
 "metadata": {
  "kernelspec": {
   "display_name": "Python 3 (ipykernel)",
   "language": "python",
   "name": "python3"
  },
  "language_info": {
   "codemirror_mode": {
    "name": "ipython",
    "version": 3
   },
   "file_extension": ".py",
   "mimetype": "text/x-python",
   "name": "python",
   "nbconvert_exporter": "python",
   "pygments_lexer": "ipython3",
   "version": "3.9.12"
  }
 },
 "nbformat": 4,
 "nbformat_minor": 4
}
